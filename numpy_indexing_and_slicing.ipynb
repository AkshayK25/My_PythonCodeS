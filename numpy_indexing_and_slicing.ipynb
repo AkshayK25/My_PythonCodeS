{
  "nbformat": 4,
  "nbformat_minor": 0,
  "metadata": {
    "colab": {
      "name": "numpy_indexing and slicing.ipynb",
      "version": "0.3.2",
      "provenance": [],
      "include_colab_link": true
    },
    "kernelspec": {
      "name": "python3",
      "display_name": "Python 3"
    }
  },
  "cells": [
    {
      "cell_type": "markdown",
      "metadata": {
        "id": "view-in-github",
        "colab_type": "text"
      },
      "source": [
        "<a href=\"https://colab.research.google.com/github/AkshayK25/My_PythonCodeS/blob/master/numpy_indexing_and_slicing.ipynb\" target=\"_parent\"><img src=\"https://colab.research.google.com/assets/colab-badge.svg\" alt=\"Open In Colab\"/></a>"
      ]
    },
    {
      "cell_type": "code",
      "metadata": {
        "id": "C5ETEMl1X6Hk",
        "colab_type": "code",
        "colab": {
          "base_uri": "https://localhost:8080/",
          "height": 102
        },
        "outputId": "55d1650b-9a6e-447b-d8b8-a8789c381f4b"
      },
      "source": [
        "import numpy as np\n",
        "n = int(input())\n",
        "def tiling(n):\n",
        "    result = np.zeros((n, n), dtype = int)\n",
        "    result[::2, 1::2] = 1\n",
        "    result[1::2, ::2] = 1\n",
        "    return result\n",
        "  \n",
        "print(tiling(n))"
      ],
      "execution_count": 12,
      "outputs": [
        {
          "output_type": "stream",
          "text": [
            "4\n",
            "[[0 1 0 1]\n",
            " [1 0 1 0]\n",
            " [0 1 0 1]\n",
            " [1 0 1 0]]\n"
          ],
          "name": "stdout"
        }
      ]
    },
    {
      "cell_type": "code",
      "metadata": {
        "id": "esbH9RJLaeB9",
        "colab_type": "code",
        "colab": {
          "base_uri": "https://localhost:8080/",
          "height": 85
        },
        "outputId": "b5dd8f76-95c1-4016-f1bb-738c7d818c1a"
      },
      "source": [
        "import numpy as np\n",
        "n = 4\n",
        "arr = ([0,1])\n",
        "print(np.tile(arr,(n,n//2)))"
      ],
      "execution_count": 7,
      "outputs": [
        {
          "output_type": "stream",
          "text": [
            "[[0 1 0 1]\n",
            " [0 1 0 1]\n",
            " [0 1 0 1]\n",
            " [0 1 0 1]]\n"
          ],
          "name": "stdout"
        }
      ]
    },
    {
      "cell_type": "markdown",
      "metadata": {
        "id": "yc5PBzWLaee-",
        "colab_type": "text"
      },
      "source": [
        ""
      ]
    },
    {
      "cell_type": "markdown",
      "metadata": {
        "id": "E1QLnpEFae8Z",
        "colab_type": "text"
      },
      "source": [
        "**Border Rows and Columns**\n",
        "\n",
        "Description\n",
        "\n",
        "Extract all the border rows and columns from a 2-D array.\n",
        "\n",
        "Format:\n",
        "\n",
        "Input: A 2-D Python list\n",
        "\n",
        "Output: Four NumPy arrays - First column of the input array, first row of the input array, last column of the input array, last row of the input array respectively.\n",
        "\n",
        "Example:\n",
        "\n",
        "Input 1:\n",
        "\n",
        "[[11 12 13 14]\n",
        "\n",
        " [21 22 23 24]\n",
        " \n",
        " [31 32 33 34]]\n",
        " \n",
        "Output 1:\n",
        "\n",
        "[11 21 31]\n",
        "\n",
        "[11 12 13 14]\n",
        "\n",
        "[14 24 34]\n",
        "\n",
        "[31 32 33 34]\n",
        "\n",
        "Execution Time Limit\n",
        "5 seconds"
      ]
    },
    {
      "cell_type": "code",
      "metadata": {
        "id": "ZdBFhmE0lL4V",
        "colab_type": "code",
        "colab": {
          "base_uri": "https://localhost:8080/",
          "height": 85
        },
        "outputId": "e2031d22-6326-4c2b-b204-87bc71e76f26"
      },
      "source": [
        "import numpy as np\n",
        "\n",
        "input_list = [[11, 12, 13, 14],\n",
        " [21 ,22, 23, 24],\n",
        " [31, 32 ,33, 34]]\n",
        "\n",
        "# Convert the input list to a NumPy array\n",
        "array_2d =np.array(input_list)\n",
        "\n",
        "# Extract the first column, first row, last column and last row respectively using\n",
        "# appropriate indexing\n",
        "row_first = array_2d[0:1,:]\n",
        "col_first = array_2d[:,0:1]\n",
        "col_last = array_2d[:,3:4]\n",
        "row_last = array_2d[2:4,:]\n",
        "colnew = col_first.reshape(1,3)\n",
        "print(colnew[0])\n",
        "print(row_first[0])\n",
        "coll = col_last.reshape(1,3)\n",
        "print(coll[0])\n",
        "print(row_last[0])"
      ],
      "execution_count": 10,
      "outputs": [
        {
          "output_type": "stream",
          "text": [
            "[11 21 31]\n",
            "[11 12 13 14]\n",
            "[14 24 34]\n",
            "[31 32 33 34]\n"
          ],
          "name": "stdout"
        }
      ]
    },
    {
      "cell_type": "code",
      "metadata": {
        "id": "gKYWlpMeaigY",
        "colab_type": "code",
        "colab": {
          "base_uri": "https://localhost:8080/",
          "height": 34
        },
        "outputId": "606e4861-ae9d-4b19-ec4a-18d8051f36a4"
      },
      "source": [
        "import numpy as np\n",
        "array_1= np.array([1, 2 ,3 ,5 ,4, 6 ,7 ,8, 5, 3, 2])\n",
        "print(array_1[0::2])"
      ],
      "execution_count": 6,
      "outputs": [
        {
          "output_type": "stream",
          "text": [
            "[1 3 4 7 5 2]\n"
          ],
          "name": "stdout"
        }
      ]
    }
  ]
}